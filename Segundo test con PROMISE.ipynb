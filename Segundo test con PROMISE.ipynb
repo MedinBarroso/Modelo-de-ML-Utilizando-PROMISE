{
 "cells": [
  {
   "cell_type": "code",
   "execution_count": 2,
   "metadata": {},
   "outputs": [
    {
     "data": {
      "text/html": [
       "<div>\n",
       "<style scoped>\n",
       "    .dataframe tbody tr th:only-of-type {\n",
       "        vertical-align: middle;\n",
       "    }\n",
       "\n",
       "    .dataframe tbody tr th {\n",
       "        vertical-align: top;\n",
       "    }\n",
       "\n",
       "    .dataframe thead th {\n",
       "        text-align: right;\n",
       "    }\n",
       "</style>\n",
       "<table border=\"1\" class=\"dataframe\">\n",
       "  <thead>\n",
       "    <tr style=\"text-align: right;\">\n",
       "      <th></th>\n",
       "      <th>Project.ID</th>\n",
       "      <th>Requirement.description</th>\n",
       "      <th>NFR</th>\n",
       "    </tr>\n",
       "  </thead>\n",
       "  <tbody>\n",
       "    <tr>\n",
       "      <td>0</td>\n",
       "      <td>1</td>\n",
       "      <td>'The system shall refresh the display every 60...</td>\n",
       "      <td>PE</td>\n",
       "    </tr>\n",
       "    <tr>\n",
       "      <td>1</td>\n",
       "      <td>1</td>\n",
       "      <td>'The application shall match the color of the ...</td>\n",
       "      <td>LF</td>\n",
       "    </tr>\n",
       "    <tr>\n",
       "      <td>2</td>\n",
       "      <td>1</td>\n",
       "      <td>' If projected  the data must be readable.  On...</td>\n",
       "      <td>US</td>\n",
       "    </tr>\n",
       "    <tr>\n",
       "      <td>3</td>\n",
       "      <td>1</td>\n",
       "      <td>' The product shall be available during normal...</td>\n",
       "      <td>A</td>\n",
       "    </tr>\n",
       "    <tr>\n",
       "      <td>4</td>\n",
       "      <td>1</td>\n",
       "      <td>' If projected  the data must be understandabl...</td>\n",
       "      <td>US</td>\n",
       "    </tr>\n",
       "  </tbody>\n",
       "</table>\n",
       "</div>"
      ],
      "text/plain": [
       "   Project.ID                            Requirement.description NFR\n",
       "0           1  'The system shall refresh the display every 60...  PE\n",
       "1           1  'The application shall match the color of the ...  LF\n",
       "2           1  ' If projected  the data must be readable.  On...  US\n",
       "3           1  ' The product shall be available during normal...   A\n",
       "4           1  ' If projected  the data must be understandabl...  US"
      ]
     },
     "execution_count": 2,
     "metadata": {},
     "output_type": "execute_result"
    }
   ],
   "source": [
    "#Importamos las librerias \n",
    "import spacy\n",
    "import pandas as pd\n",
    "import numpy as np\n",
    "import sklearn as sk\n",
    "import matplotlib.pyplot as plt\n",
    "import seaborn as sns\n",
    "\n",
    "#Importamos el dataset con pandas\n",
    "dframe = pd.read_csv(\"PROMISE_DATASET.csv\")\n",
    "dframe.head()"
   ]
  },
  {
   "cell_type": "code",
   "execution_count": 3,
   "metadata": {},
   "outputs": [
    {
     "data": {
      "text/plain": [
       "(625, 3)"
      ]
     },
     "execution_count": 3,
     "metadata": {},
     "output_type": "execute_result"
    }
   ],
   "source": [
    "dframe.shape"
   ]
  },
  {
   "cell_type": "code",
   "execution_count": 4,
   "metadata": {},
   "outputs": [
    {
     "data": {
      "text/plain": [
       "F     255\n",
       "US     67\n",
       "SE     66\n",
       "O      62\n",
       "PE     54\n",
       "LF     38\n",
       "A      21\n",
       "SC     21\n",
       "MN     17\n",
       "L      13\n",
       "FT     10\n",
       "PO      1\n",
       "Name: NFR, dtype: int64"
      ]
     },
     "execution_count": 4,
     "metadata": {},
     "output_type": "execute_result"
    }
   ],
   "source": [
    "dframe.NFR.value_counts()"
   ]
  },
  {
   "cell_type": "code",
   "execution_count": 5,
   "metadata": {},
   "outputs": [],
   "source": [
    "#Importamos un modelo de ingles del spacy\n",
    "\n",
    "import en_core_web_sm\n",
    "from  spacy.lang.en.stop_words import STOP_WORDS\n",
    "#nlp = en_core_web_sm.load()\n",
    "nlp = spacy.load('en')\n",
    "\n",
    "# To build a list of stop words for filtering\n",
    "stopwords = list(STOP_WORDS)\n",
    "#print(stopwords)"
   ]
  },
  {
   "cell_type": "code",
   "execution_count": 6,
   "metadata": {},
   "outputs": [],
   "source": [
    "import string\n",
    "import spacy\n",
    "punctuations = string.punctuation\n",
    "# Creating a Spacy Parser\n",
    "from spacy.lang.en import English\n",
    "parser = English()"
   ]
  },
  {
   "cell_type": "code",
   "execution_count": 7,
   "metadata": {},
   "outputs": [],
   "source": [
    "def my_tokenizer(sentence):\n",
    "    mytokens = parser(sentence)\n",
    "    mytokens = [ word.lemma_.lower().strip() if word.lemma_ != \"-PRON-\" else word.lower_ for word in mytokens ]\n",
    "    mytokens = [ word for word in mytokens if word not in stopwords and word not in punctuations ]\n",
    "    return mytokens"
   ]
  },
  {
   "cell_type": "code",
   "execution_count": 8,
   "metadata": {},
   "outputs": [],
   "source": [
    "# ML Packages\n",
    "from sklearn.feature_extraction.text import CountVectorizer,TfidfVectorizer\n",
    "from sklearn.metrics import accuracy_score \n",
    "from sklearn.base import TransformerMixin \n",
    "from sklearn.pipeline import Pipeline\n",
    "from sklearn.svm import LinearSVC"
   ]
  },
  {
   "cell_type": "code",
   "execution_count": 9,
   "metadata": {},
   "outputs": [],
   "source": [
    "#Custom transformer using spaCy \n",
    "class predictors(TransformerMixin):\n",
    "    def transform(self, X, **transform_params):\n",
    "        return [clean_text(text) for text in X]\n",
    "    def fit(self, X, y, **fit_params):\n",
    "        return self\n",
    "    def get_params(self, deep=True):\n",
    "        return {}\n",
    "\n",
    "# Basic function to clean the text \n",
    "def clean_text(text):     \n",
    "    return text.strip().lower()"
   ]
  },
  {
   "cell_type": "code",
   "execution_count": 10,
   "metadata": {},
   "outputs": [],
   "source": [
    "# Vectorization\n",
    "vectorizer = CountVectorizer(tokenizer = my_tokenizer, ngram_range=(1,1)) \n",
    "classifier = LinearSVC()"
   ]
  },
  {
   "cell_type": "code",
   "execution_count": 11,
   "metadata": {},
   "outputs": [],
   "source": [
    "# Splitting Data Set\n",
    "from sklearn.model_selection import train_test_split"
   ]
  },
  {
   "cell_type": "code",
   "execution_count": 12,
   "metadata": {},
   "outputs": [],
   "source": [
    "# Features and Labels\n",
    "X = dframe['Requirement.description']\n",
    "ylabels = dframe['NFR']\n",
    "\n",
    "X_train, X_test, y_train, y_test = train_test_split(X, ylabels, test_size=0.2, random_state=53)"
   ]
  },
  {
   "cell_type": "code",
   "execution_count": 13,
   "metadata": {
    "scrolled": true
   },
   "outputs": [
    {
     "name": "stdout",
     "output_type": "stream",
     "text": [
      "'The system shall display Events or Activities.' Prediction=> F\n",
      "'Each page shall contain a navigation menu which shows the index into which the current page is contained.' Prediction=> LF\n",
      "' When the hit results in sinking a ship  the product shall indicate the type of ship sunk on the defensive grid of the defensive player.' Prediction=> F\n",
      "'The realtor shall be able to retrieve a map showing property locations for a specified area' Prediction=> F\n",
      "'The System shall maintain consistent security.  Any changes in user passwords and/or permissions should take affect in all parts of the System.' Prediction=> F\n",
      "' For each shot  the product shall mark the shot as a hit or miss on the defensive grid of the defensive player.' Prediction=> F\n",
      "'System shall let administrator de-activate a customer account in under 1 minute. Customer will no longer be able to access the website.' Prediction=> SE\n",
      "'System shall let customers register on the website as a ï¿½pay as you goï¿½ user in under 5 minutes.' Prediction=> PE\n",
      "'System shall let Izogn Manager access sales and usage statistics in under 2 minutes.' Prediction=> PE\n",
      "'The system shall be built such that it is as secure as possible from malicious interference.' Prediction=> SE\n",
      "'System shall let customers register on the website as a ï¿½unlimited movie subscriberï¿½ user in under 10 minutes.' Prediction=> US\n",
      "'The product shall be expected to operate for at least 5 years for each customer installation.' Prediction=> MN\n",
      "'Program Administrators and Nursing Staff Members shall be able to add new classes for the nursing department into the system.' Prediction=> F\n",
      "'IzognMovies shall meet the licensing requirements set forth by the appropriate organizations in order to stream African movies.' Prediction=> F\n",
      "'The adjuster shall enter the preferred repair facility on the estimate assignment.' Prediction=> F\n",
      "'The system shall be expected to manage the nursing program curriculum and class/clinical scheduling for a minimum of 5 years.' Prediction=> SC\n",
      "'The website shall continue to operate if the payment gateway goes down.' Prediction=> FT\n",
      "'98% of the user workstations shall meet the minimum software requirements prior to implementation: Microsoft Internet Explorer 5.0. Microsoft .NET Framework 1.1. Microsoft Internet Explorer Web Controls' Prediction=> O\n",
      "'All aspects of the website shall be accessed by a web browser over the Internet.' Prediction=> O\n",
      "'All business rules specified in the Disputes System shall be in compliance to the guidelines of Regulation E and Regulation Z.' Prediction=> L\n",
      "'An anonymous survey will show that 95% of customers are comfortable using and purchasing pre-paid cards after a month of using the system.' Prediction=> US\n",
      "'The application shall have a downtime of at most 10 minutes per year.' Prediction=> US\n",
      "'The application shall run on a web application server.' Prediction=> O\n",
      "'System shall let the administrator add/remove categories on the website in under 5 minutes.' Prediction=> PE\n",
      "'The realtor shall be notified of new client appointments after automatic synchronization with office system' Prediction=> F\n",
      "'The system shall have a MDI form that allows for the viewing of the graph and the data table.' Prediction=> F\n",
      "'\tA new user shall be able to navigate through the league and team pages within 30 seconds of reaching the start-up page.' Prediction=> PE\n",
      "'The product shall allow for customization of start page and views preferences.' Prediction=> FT\n",
      "'The product shall be available for distribution via the Internet as a binary or ZIP file.' Prediction=> O\n",
      "' When a shot is marked as a miss  the product shall simulate the sound of a shot missing its target.' Prediction=> LF\n",
      "'The product must be able to interface with any HTML browser.  The product shall transmit data between the user and the product without problems. The product shall display HTML properly in 80% of all HTML browsers tested (minimum is to test 8 browsers).' Prediction=> O\n",
      "'The Disputes application shall ensure that only authorized users are allowed to logon to the application.' Prediction=> SE\n",
      "'All credit card information will be encrypted in the database.' Prediction=> O\n",
      "'The system shall use the organizationï¿½s standard virus protection software to help monitor threats to itself.' Prediction=> US\n",
      "' The product must make use of web/application server technology.  Open source examples include Apache web server  Tomcat  and the JBoss application server.' Prediction=> O\n",
      "'The system must be available for use between 7:00AM and 11:59PM all days of the year.' Prediction=> A\n",
      "' The productï¿½s Look and Feel shall be able to incorporate aspects of the customerï¿½s organization such as logo  branding  and identity' Prediction=> LF\n",
      "'\tUsers shall be able to view at least 25 NFL player statistics and points on each page.' Prediction=> F\n",
      "'The preferred repair facility ratings shall be saved by the system.' Prediction=> F\n",
      "'The application shall be able to complete every user transaction within one fourth of a second of receiving the request over the network.' Prediction=> US\n",
      "'The product shall be able to support multiple remote users' Prediction=> F\n",
      "'The search for the preferred repair facility shall take no longer than 8 seconds.  The preferred repair facility is returned within 8 seconds' Prediction=> PE\n",
      "'The product shall record updated meeting agendas.' Prediction=> F\n",
      "'The product shall be robust.The product shall have fault avoidance based on standards adoption.' Prediction=> US\n",
      "'The product will display an available status for unreserved conference rooms.' Prediction=> F\n",
      "'The system shall operate within the Windows XP Professional operating system.' Prediction=> O\n",
      "' The website shall protect itself from intentional abuse  and notify the administrator at all occurrences.' Prediction=> F\n",
      "'The product shall be able to display calendar dates and times according to the userï¿½s locale.  90% of survey respondents from each target market country will find that the date and time formatting of the product is correct.' Prediction=> PE\n",
      "'The Disputes System must allow the user to create three unique types of ticket retrieval requests.  The three types of ticket retrieval requests are (1) Request for original receipt (2) Request for a copy of the receipt or (3) Request for a portfolio. A portfolio consists of documentation that would provide proof of a purchase such as the documentation that is received from a car rental agency that is more than a sales receipt.' Prediction=> F\n",
      "'The product will allow priviledged users to view meeting schedules in multiple reporting views.' Prediction=> F\n",
      "'The product shall provide Asynchronous Messaging.The product shall provide asynchronous messaging to enable parallel processing and reduce the overhead in communications' Prediction=> F\n",
      "'The system shall only be accessed by authorized Corporate Community Grants (CCR) employees. Users must be authenticated using their IBM intranet user name and password.' Prediction=> SE\n",
      "'The product shall update existing conference rooms.' Prediction=> F\n",
      "'\tUser access should be limited to the permissions granted to their role(s) Each level in the PCG hierarchy will be assigned a role and users will be assigned to these roles. Access to functionality within RFS system is dependent on the privileges/permission assigned to the role..' Prediction=> SE\n",
      "'The system shall help the user avoid making mistakes while scheduling classes and clinicals for the nursing students.' Prediction=> US\n",
      "'The current repair facility ratings shall be displayed to the user.' Prediction=> F\n",
      "' The product must work with most database management systems (DBMS) on the market  whether the DBMS is colocated with the product on the same machine or is located on a different machine on the computer network.' Prediction=> O\n",
      "'The Disputes application shall support 350 concurrent users without any degradation of performance in the application.' Prediction=> O\n",
      "' Velkat staff will be available for phone support between 7am-7pm  M-F to provide technical support to the Izogn administrators.' Prediction=> O\n",
      "'The Disputes System must be accessible by both internal and external users.' Prediction=> F\n"
     ]
    },
    {
     "name": "stdout",
     "output_type": "stream",
     "text": [
      "'The product shall be used in office environments.' Prediction=> O\n",
      "'A list of all disputes cases that meet the entered search criteria must be provided to the user.  The list of cases must differentiate the type and/or status of the case by color -coding the line item in the list.  For example all open cases will be yellow and all closed cases will be gray.' Prediction=> F\n",
      "'For leads that process longer than 25 seconds the system will record the event and duration' Prediction=> PE\n",
      "'The product shall prevent the player from overlapping ships on their grid.' Prediction=> F\n",
      "' For each turn  the product shall allow the offensive player to define a shot.' Prediction=> F\n",
      "' The product shall be available 24 hours per day  seven days per week.' Prediction=> A\n",
      "'Only managers are able to perform search queries for reservations by user.  100% of all search queries for reservations by user shall be from logons of only management logons.' Prediction=> US\n",
      "'Website shall allow customers to view reviews of selected movies by other customers.' Prediction=> F\n",
      "' The website shall be capable of supporting 100 000 customers.' Prediction=> SC\n",
      "'The customer shall be able to easily integrate new building maps with the product throughout the productï¿½s lifecycle.  Integration of new maps with the product shall be possible with little to no support from product support staff.' Prediction=> F\n",
      "'Website shall allow customers to browse movies by categories entered in by izogn administrator.' Prediction=> F\n",
      "'The system shall be easy to use by callers and supervisors. Callers and supervisors must be able to accomplish any system task within 2 minutes.' Prediction=> US\n",
      "'The system shall allow modification of the display.' Prediction=> F\n",
      "'The product shall ensure that only supervisors can advertise empty time slots.The product must ensure that supervisors are allowed to access advertise empty time slots.' Prediction=> SE\n",
      "'System shall allow users to update their billing and contact information via the ï¿½My Accountï¿½ section of the website.' Prediction=> F\n",
      "' System shall let customers cancel their account  process shall take no longer than 2 minutes.  Database will mark the account as inactive  and user will not be able to log into the website.' Prediction=> PE\n",
      "'Users should be able to access their streaming movies in under 2 clicks after logging into the website.' Prediction=> F\n",
      "' The vehicle data shall include vehicle year  make  and model' Prediction=> F\n",
      "'The Disputes application shall manipulate and view business data. Users will not have direct access to data files or databases.' Prediction=> SE\n",
      "' On a 112k connection or faster  the system response time for all operations must be no more than 3 seconds 90% of the time.' Prediction=> PE\n",
      "'The system shall update or create new property listings in the MLS' Prediction=> F\n",
      "'Only collision estimators shall search for recycled parts.  Users without the collision estimator role shall not have access to the search for recycled parts.' Prediction=> F\n",
      "'The IQA subsystem shall take into account current inventory status and adjust inventory of substitutionary ingredients accordingly.' Prediction=> F\n",
      "' The interface shall be appealing to callers and supervisors. In the interface and usability survey  80% of beta testers must report that the interface is appealing.' Prediction=> LF\n",
      "'The System shall meet all applicable accounting standards.  The final version of the System must successfully pass independent audit performed by a certified auditor.' Prediction=> US\n",
      "'The system shall search for available recycled parts for the supplied vehicle parts and suppliers.' Prediction=> F\n",
      "'Program Administrators/Nursing Staff Members shall be able to cancel a clinical lab section only if there are no students registered for that clinical lab section.' Prediction=> F\n",
      "'The product shall be easy to use. 90% of users will be able to successfully reserve a conference room within 5 minutes of product use.' Prediction=> US\n",
      "'The product shall run on the existing hardware for all environments.' Prediction=> O\n",
      "'Program Administrators and Nursing Staff Members shall be able to add a new clinical lab section for an existing clinical class into the System.' Prediction=> F\n",
      "'The product shall produce search results in an acceptable time' Prediction=> PE\n",
      "'The product shall able to handle a large number of games simultaneously.' Prediction=> F\n",
      "'The product shall achieve a 98% uptime. The product shall not fail more than 2% of the available online time.' Prediction=> A\n",
      "'The Disputes System shall allow the user to create or initiate a chargeback request.  The system must prompt the user to enter the required information to initiate a chargeback request. The chargeback request results in a printed chargeback notification that is sent to merchant indicating that their account will be charged back if no proof is provided that the disputed transaction is valid.' Prediction=> F\n",
      "'The leads washing functionality will return the lead data supplied to the vendor along with the reason of rejection.' Prediction=> F\n",
      "'Product formula ingredients shall allow defining substitutionary ingredients.' Prediction=> F\n",
      "'The audit report shall be displayed to the user.' Prediction=> F\n",
      "' System shall automatically update the main page of the website every Friday  and show the 4 latest movies that have been added to the website.' Prediction=> F\n",
      "' The product is expected to integrate with multiple database management systems.  The product will operate with Oracle  SQL Server  DB2  MySQL  HSQL  and MS Access.' Prediction=> O\n",
      "'Only authorized users shall have access to the portion of the system that interfaces with CampusConnect.' Prediction=> SE\n",
      "'The audit report shall include the total number of recycled parts used in the estimate.' Prediction=> F\n",
      "'The product shall have a customizable Look and Feel.' Prediction=> LF\n",
      "'The WCS system shall use appropriate nomenclature and terminology as defined by the Corporate Community Grants organization. All interfaces and reports will undergo usability tests by CCR users.' Prediction=> LF\n",
      "'The product shall remove players who have been inactive for 24 hours from the list of players.' Prediction=> F\n",
      "' A clinical class shall specify the course name  lecture room requirements  clinical site needs  lecture instructor needs  and clinical lab instructor needs.' Prediction=> F\n",
      "'The product shall give users feedback when necessary. 80% of the users surveyed report that the product accurately confirms their actions.' Prediction=> US\n",
      "'The product shall be capable of handling the existing 1000 users. This number is expected to grow 5 times within the next year.' Prediction=> SC\n",
      "'The leads washing functionality will store any potential lead duplicates returned by the enterprise system.' Prediction=> F\n",
      "'The product should be able to be used by 90% of novice users on the Internet.' Prediction=> US\n",
      "' \tChanges to revenue and expense formulae must be applied to the RFS system  every year  prior to the budgeting process start. Revenue and expense formulae will be updated within one week of their receipt  after which 2 weeks will be allotted to testing of the budget calculations  to be conducted jointly by the project development team and PCG Finance.' Prediction=> MN\n",
      "' The system will notify affected parties when changes occur affecting cohorts  including but not limited to changes to the sequence for a cohortï¿½s program of study and changes to a given weekï¿½s schedule (lab cancelled this week due to instructor illness).' Prediction=> F\n",
      "'The product shall be able support 1000 simultaneous users.' Prediction=> SC\n",
      "' When the hit results in sinking a ship  the product shall mark the ship as sunk on the defensive grid of the defensive player.' Prediction=> F\n",
      "'Only registered customers can purchase streaming movies.' Prediction=> SE\n",
      "'Izogn Administrator must be able to add new products to the website within 2 minutes.' Prediction=> PE\n"
     ]
    },
    {
     "name": "stdout",
     "output_type": "stream",
     "text": [
      "' The system shall be able to display a printable summary for individual cohorts  which will include the students enlisted  the Program of study  sequence of classes  cohort progress through the program  and timeline of completion.' Prediction=> F\n",
      "' The server will support a maximum of 1 000 simultaneous users.' Prediction=> SC\n",
      "'The system will display a blank set of ratings if there are not ratings yet defined.' Prediction=> F\n",
      "' \tThe RFS system should be available 24/7  especially during the budgeting period. The RFS system shall be available 90% of the time all year  and 98% during the budgeting period. 2% of the time  the system will become available within 1 hour of the time that the situation is reported.' Prediction=> A\n",
      "'The product will be able to delete conference rooms.' Prediction=> F\n",
      "'The system shall filter data by: Venues and Key Events.' Prediction=> F\n",
      "'Only users with Update access must be able to initiate dispute requests.' Prediction=> SE\n",
      "'The system shall use symbols and words that are naturally understandable by the user community.' Prediction=> US\n",
      "'All updates to data files or database must be initiated from the Disputes System.' Prediction=> O\n",
      "'The PHP code will comply with PEAR standards.' Prediction=> L\n"
     ]
    }
   ],
   "source": [
    "from sklearn import metrics\n",
    "# Create the  pipeline to clean, tokenize, vectorize, and classify using\"Count Vectorizor\"\n",
    "pipe_countvect = Pipeline([(\"cleaner\", predictors()),\n",
    "                 ('vectorizer', vectorizer),\n",
    "                 ('classifier', classifier)])\n",
    "# Fit our data\n",
    "pipe_countvect.fit(X_train,y_train)\n",
    "# Predicting with a test dataset\n",
    "sample_prediction = pipe_countvect.predict(X_test)\n",
    "\n",
    "# Prediction Results\n",
    "#Imprimimos los resultados de las predicciones\n",
    "for (sample,pred) in zip(X_test,sample_prediction):\n",
    "    print(sample,\"Prediction=>\",pred)\n",
    "    \n",
    "\n",
    "#print(\"Accuracy: \",pipe_countvect.score(X_test,y_test))\n",
    "#print(\"Accuracy: \",pipe_countvect.score(X_test,sample_prediction))\n",
    "# Accuracy\n",
    "#print(\"Accuracy: \",pipe_countvect.score(X_train,y_train))"
   ]
  },
  {
   "cell_type": "code",
   "execution_count": 14,
   "metadata": {},
   "outputs": [
    {
     "name": "stdout",
     "output_type": "stream",
     "text": [
      "Accuracy 0.768\n",
      "Precision 0.7575451484542394\n",
      "Recall 0.6826608174434261\n"
     ]
    }
   ],
   "source": [
    "# Accuracy\n",
    "print('Accuracy',metrics.accuracy_score(y_test,sample_prediction))\n",
    "#Precision\n",
    "print('Precision',metrics.precision_score(y_test,sample_prediction, average='macro'))\n",
    "#Precision\n",
    "print('Recall',metrics.recall_score(y_test,sample_prediction, average='macro'))"
   ]
  },
  {
   "cell_type": "code",
   "execution_count": null,
   "metadata": {},
   "outputs": [],
   "source": []
  },
  {
   "cell_type": "code",
   "execution_count": 25,
   "metadata": {},
   "outputs": [
    {
     "data": {
      "text/plain": [
       "array(['PE', 'F'], dtype=object)"
      ]
     },
     "execution_count": 25,
     "metadata": {},
     "output_type": "execute_result"
    }
   ],
   "source": [
    "# Oración para prueba\n",
    "pipe_countvect.predict([\"The system should start in 10 seconds\",\"She must log in before typing something\"])"
   ]
  },
  {
   "cell_type": "code",
   "execution_count": 16,
   "metadata": {},
   "outputs": [],
   "source": [
    "#Intentaremos Obtener una matriz de confusion y algunas graficas"
   ]
  },
  {
   "cell_type": "code",
   "execution_count": 17,
   "metadata": {},
   "outputs": [],
   "source": [
    "%matplotlib inline\n",
    "import matplotlib.pyplot as plt"
   ]
  },
  {
   "cell_type": "code",
   "execution_count": 24,
   "metadata": {},
   "outputs": [
    {
     "data": {
      "image/png": "[encoded data removed]",
      "text/plain": [
       "<Figure size 432x288 with 2 Axes>"
      ]
     },
     "metadata": {
      "needs_background": "light"
     },
     "output_type": "display_data"
    }
   ],
   "source": [
    "import scikitplot as skplt\n",
    "skplt.metrics.plot_confusion_matrix(y_test, sample_prediction, normalize=False)\n",
    "plt.show()"
   ]
  },
  {
   "cell_type": "code",
   "execution_count": 19,
   "metadata": {},
   "outputs": [
    {
     "data": {
      "image/png": "[encoded data removed]",
      "text/plain": [
       "<Figure size 432x288 with 1 Axes>"
      ]
     },
     "metadata": {
      "needs_background": "light"
     },
     "output_type": "display_data"
    }
   ],
   "source": [
    "plt.scatter(y_test, sample_prediction)\n",
    "plt.show()"
   ]
  },
  {
   "cell_type": "code",
   "execution_count": null,
   "metadata": {},
   "outputs": [],
   "source": []
  },
  {
   "cell_type": "code",
   "execution_count": null,
   "metadata": {},
   "outputs": [],
   "source": []
  },
  {
   "cell_type": "code",
   "execution_count": null,
   "metadata": {},
   "outputs": [],
   "source": []
  },
  {
   "cell_type": "code",
   "execution_count": null,
   "metadata": {},
   "outputs": [],
   "source": []
  }
 ],
 "metadata": {
  "kernelspec": {
   "display_name": "Python 3",
   "language": "python",
   "name": "python3"
  },
  "language_info": {
   "codemirror_mode": {
    "name": "ipython",
    "version": 3
   },
   "file_extension": ".py",
   "mimetype": "text/x-python",
   "name": "python",
   "nbconvert_exporter": "python",
   "pygments_lexer": "ipython3",
   "version": "3.6.9"
  }
 },
 "nbformat": 4,
 "nbformat_minor": 2
}
